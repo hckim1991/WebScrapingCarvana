{
 "cells": [
  {
   "cell_type": "code",
   "execution_count": 5,
   "metadata": {},
   "outputs": [],
   "source": [
    "import numpy as np\n",
    "import pandas as pd\n",
    "import re"
   ]
  },
  {
   "cell_type": "code",
   "execution_count": 26,
   "metadata": {},
   "outputs": [],
   "source": [
    "def extract_shipping(x):\n",
    "    '''Extract the cost of shipping from the shipping column of webscraped data.\n",
    "    Free shipping = 0 and cost of shipping otherwise.'''\n",
    "    if x == 'Free Shipping':\n",
    "        return 0\n",
    "    else:\n",
    "        return int(re.findall('\\d+', x)[0])"
   ]
  },
  {
   "cell_type": "code",
   "execution_count": 51,
   "metadata": {},
   "outputs": [],
   "source": [
    "#Read the csv file\n",
    "carvana_raw = pd.read_csv('carvana.csv')\n",
    "\n",
    "#Remove rows with no model name\n",
    "carvana_raw = carvana_raw[~carvana_raw['model'].isna()]\n",
    "\n",
    "#Create a new column called ticker with single value of CVNA for merging with VRM data later\n",
    "carvana_raw['ticker'] = 'CVNA'\n",
    "\n",
    "#Reorder columns\n",
    "carvana_raw = carvana_raw[['ticker', 'year', 'brand', 'model', 'trim', 'miles', 'price', 'monthly_pmt', 'shipping']] \n",
    "\n",
    "#Apply extract_shipping function to extract shipping cost\n",
    "carvana_raw['shipping'] = carvana_raw['shipping'].apply(extract_shipping)\n",
    "\n",
    "#Convert year to integer\n",
    "carvana_raw['year'] = carvana_raw['year'].astype(np.int)\n",
    "\n",
    "#Drop duplicate rows\n",
    "carvana_clean = carvana_raw[~carvana_raw.duplicated()]"
   ]
  }
 ],
 "metadata": {
  "kernelspec": {
   "display_name": "Python 3",
   "language": "python",
   "name": "python3"
  },
  "language_info": {
   "codemirror_mode": {
    "name": "ipython",
    "version": 3
   },
   "file_extension": ".py",
   "mimetype": "text/x-python",
   "name": "python",
   "nbconvert_exporter": "python",
   "pygments_lexer": "ipython3",
   "version": "3.7.7"
  }
 },
 "nbformat": 4,
 "nbformat_minor": 4
}
